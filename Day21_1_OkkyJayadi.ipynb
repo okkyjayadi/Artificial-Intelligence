{
 "cells": [
  {
   "cell_type": "markdown",
   "metadata": {},
   "source": [
    "# Keras untuk CNN Happy House"
   ]
  },
  {
   "cell_type": "code",
   "execution_count": 1,
   "metadata": {},
   "outputs": [
    {
     "name": "stderr",
     "output_type": "stream",
     "text": [
      "Using TensorFlow backend.\n"
     ]
    }
   ],
   "source": [
    "import numpy as np\n",
    "from keras import layers\n",
    "from keras.layers import Input, Dense, Activation, ZeroPadding2D, BatchNormalization, Flatten, Conv2D\n",
    "from keras.layers import AveragePooling2D, MaxPooling2D, Dropout, GlobalMaxPooling2D, GlobalAveragePooling2D\n",
    "from keras.models import Model\n",
    "from keras.preprocessing import image\n",
    "from keras.utils import layer_utils\n",
    "from keras.utils.data_utils import get_file\n",
    "from keras.applications.imagenet_utils import preprocess_input\n",
    "import pydot\n",
    "from IPython.display import SVG\n",
    "from keras.utils.vis_utils import model_to_dot\n",
    "from keras.utils import plot_model\n",
    "from kt_utils import *\n",
    "\n",
    "import keras.backend as K\n",
    "K.set_image_data_format('channels_last')\n",
    "import matplotlib.pyplot as plt\n",
    "from matplotlib.pyplot import imshow\n",
    "\n",
    "%matplotlib inline"
   ]
  },
  {
   "cell_type": "markdown",
   "metadata": {},
   "source": [
    "# 1 - The Happy House"
   ]
  },
  {
   "cell_type": "code",
   "execution_count": 2,
   "metadata": {
    "scrolled": true
   },
   "outputs": [
    {
     "name": "stdout",
     "output_type": "stream",
     "text": [
      "number of training examples = 600\n",
      "number of test examples = 150\n",
      "X_train shape: (600, 64, 64, 3)\n",
      "Y_train shape: (600, 1)\n",
      "X_test shape: (150, 64, 64, 3)\n",
      "Y_test shape: (150, 1)\n"
     ]
    }
   ],
   "source": [
    "X_train_orig, Y_train_orig, X_test_orig, Y_test_orig, classes = load_dataset()\n",
    "# Normalize image vectors\n",
    "X_train = X_train_orig/255.\n",
    "X_test = X_test_orig/255.\n",
    "# Reshape\n",
    "Y_train = Y_train_orig.T\n",
    "Y_test = Y_test_orig.T\n",
    "print (\"number of training examples = \" + str(X_train.shape[0]))\n",
    "print (\"number of test examples = \" + str(X_test.shape[0]))\n",
    "print (\"X_train shape: \" + str(X_train.shape))\n",
    "print (\"Y_train shape: \" + str(Y_train.shape))\n",
    "print (\"X_test shape: \" + str(X_test.shape))\n",
    "print (\"Y_test shape: \" + str(Y_test.shape))"
   ]
  },
  {
   "cell_type": "markdown",
   "metadata": {},
   "source": [
    "# 2 - Building a model in Keras"
   ]
  },
  {
   "cell_type": "code",
   "execution_count": 3,
   "metadata": {},
   "outputs": [],
   "source": [
    "def model(input_shape):\n",
    "    # Define the input placeholder as a tensor with shape input_shape. Think of this as your input image!\n",
    "    X_input = Input(input_shape)\n",
    "\n",
    "    # Zero-Padding: pads the border of X_input with zeroes\n",
    "    X = ZeroPadding2D((3, 3))(X_input)\n",
    "\n",
    "    # CONV -> BN -> RELU Block applied to X\n",
    "    X = Conv2D(32, (7, 7), strides = (1, 1), name = 'conv0')(X)\n",
    "    X = BatchNormalization(axis = 3, name = 'bn0')(X)\n",
    "    X = Activation('relu')(X)\n",
    "\n",
    "    # MAXPOOL\n",
    "    X = MaxPooling2D((2, 2), name='max_pool')(X)\n",
    "\n",
    "    # FLATTEN X (means convert it to a vector) + FULLYCONNECTED\n",
    "    X = Flatten()(X)\n",
    "    X = Dense(1, activation='sigmoid', name='fc')(X)\n",
    "\n",
    "    # Create model. This creates your Keras model instance, you'll use this instance to train/test the model.\n",
    "    model = Model(inputs = X_input, outputs = X, name='HappyModel')\n",
    "\n",
    "    return model"
   ]
  },
  {
   "cell_type": "code",
   "execution_count": 4,
   "metadata": {},
   "outputs": [],
   "source": [
    "\n",
    "# GRADED FUNCTION: HappyModel\n",
    "\n",
    "def HappyModel(input_shape):\n",
    "    \"\"\"\n",
    "    Implementation of the HappyModel.\n",
    "    \n",
    "    Arguments:\n",
    "    input_shape -- shape of the images of the dataset\n",
    "\n",
    "    Returns:\n",
    "    model -- a Model() instance in Keras\n",
    "    \"\"\"\n",
    "    \n",
    "    ### START CODE HERE ###\n",
    "    # Feel free to use the suggested outline in the text above to get started, and run through the whole\n",
    "    # exercise (including the later portions of this notebook) once. The come back also try out other\n",
    "    # network architectures as well. \n",
    "    # Define the input placeholder as a tensor with shape input_shape. Think of this as your input image!\n",
    "    X_input = Input(input_shape)\n",
    "\n",
    "    # Zero-Padding: pads the border of X_input with zeroes\n",
    "    X = ZeroPadding2D((3, 3))(X_input)\n",
    "\n",
    "    # CONV -> BN -> RELU Block applied to X\n",
    "    X = Conv2D(32, (7, 7), strides = (1, 1), name = 'conv0')(X)\n",
    "    X = BatchNormalization(axis = 3, name = 'bn0')(X)\n",
    "    X = Activation('relu')(X)\n",
    "\n",
    "    # MAXPOOL\n",
    "    X = MaxPooling2D((2, 2), name='max_pool')(X)\n",
    "\n",
    "    # FLATTEN X (means convert it to a vector) + FULLYCONNECTED\n",
    "    X = Flatten()(X)\n",
    "    X = Dense(1, activation='sigmoid', name='fc')(X)\n",
    "\n",
    "    # Create model. This creates your Keras model instance, you'll use this instance to train/test the model.\n",
    "    model = Model(inputs = X_input, outputs = X, name='HappyModel')\n",
    "    \n",
    "    \n",
    "    ### END CODE HERE ###\n",
    "    \n",
    "    return model"
   ]
  },
  {
   "cell_type": "markdown",
   "metadata": {},
   "source": [
    "# Exercise: Implement step 1, i.e. create the model."
   ]
  },
  {
   "cell_type": "code",
   "execution_count": 5,
   "metadata": {
    "scrolled": true
   },
   "outputs": [
    {
     "name": "stderr",
     "output_type": "stream",
     "text": [
      "WARNING: Logging before flag parsing goes to stderr.\n",
      "W0730 12:43:41.363360  7276 deprecation_wrapper.py:119] From C:\\Users\\labdas.DESKTOP-PR1HO9I\\AppData\\Roaming\\Python\\Python35\\site-packages\\keras\\backend\\tensorflow_backend.py:74: The name tf.get_default_graph is deprecated. Please use tf.compat.v1.get_default_graph instead.\n",
      "\n",
      "W0730 12:43:41.385289  7276 deprecation_wrapper.py:119] From C:\\Users\\labdas.DESKTOP-PR1HO9I\\AppData\\Roaming\\Python\\Python35\\site-packages\\keras\\backend\\tensorflow_backend.py:517: The name tf.placeholder is deprecated. Please use tf.compat.v1.placeholder instead.\n",
      "\n",
      "W0730 12:43:41.390252  7276 deprecation_wrapper.py:119] From C:\\Users\\labdas.DESKTOP-PR1HO9I\\AppData\\Roaming\\Python\\Python35\\site-packages\\keras\\backend\\tensorflow_backend.py:4138: The name tf.random_uniform is deprecated. Please use tf.random.uniform instead.\n",
      "\n",
      "W0730 12:43:41.414219  7276 deprecation_wrapper.py:119] From C:\\Users\\labdas.DESKTOP-PR1HO9I\\AppData\\Roaming\\Python\\Python35\\site-packages\\keras\\backend\\tensorflow_backend.py:174: The name tf.get_default_session is deprecated. Please use tf.compat.v1.get_default_session instead.\n",
      "\n",
      "W0730 12:43:41.415185  7276 deprecation_wrapper.py:119] From C:\\Users\\labdas.DESKTOP-PR1HO9I\\AppData\\Roaming\\Python\\Python35\\site-packages\\keras\\backend\\tensorflow_backend.py:181: The name tf.ConfigProto is deprecated. Please use tf.compat.v1.ConfigProto instead.\n",
      "\n",
      "W0730 12:43:41.442113  7276 deprecation_wrapper.py:119] From C:\\Users\\labdas.DESKTOP-PR1HO9I\\AppData\\Roaming\\Python\\Python35\\site-packages\\keras\\backend\\tensorflow_backend.py:1834: The name tf.nn.fused_batch_norm is deprecated. Please use tf.compat.v1.nn.fused_batch_norm instead.\n",
      "\n",
      "W0730 12:43:41.535968  7276 deprecation_wrapper.py:119] From C:\\Users\\labdas.DESKTOP-PR1HO9I\\AppData\\Roaming\\Python\\Python35\\site-packages\\keras\\backend\\tensorflow_backend.py:3976: The name tf.nn.max_pool is deprecated. Please use tf.nn.max_pool2d instead.\n",
      "\n"
     ]
    }
   ],
   "source": [
    "### START CODE HERE ### (1 line)\n",
    "happyModel = HappyModel((64,64,3))\n",
    "### END CODE HERE ###"
   ]
  },
  {
   "cell_type": "markdown",
   "metadata": {},
   "source": [
    "# Exercise: Implement step 2, i.e. compile the model to configure the learning process. Choose the 3 arguments of compile() wisely. Hint: the Happy Challenge is a binary classification problem."
   ]
  },
  {
   "cell_type": "code",
   "execution_count": 6,
   "metadata": {},
   "outputs": [
    {
     "name": "stderr",
     "output_type": "stream",
     "text": [
      "W0730 12:43:41.572039  7276 deprecation_wrapper.py:119] From C:\\Users\\labdas.DESKTOP-PR1HO9I\\AppData\\Roaming\\Python\\Python35\\site-packages\\keras\\optimizers.py:790: The name tf.train.Optimizer is deprecated. Please use tf.compat.v1.train.Optimizer instead.\n",
      "\n",
      "W0730 12:43:41.595005  7276 deprecation.py:323] From c:\\program files\\python35\\lib\\site-packages\\tensorflow\\python\\ops\\nn_impl.py:180: add_dispatch_support.<locals>.wrapper (from tensorflow.python.ops.array_ops) is deprecated and will be removed in a future version.\n",
      "Instructions for updating:\n",
      "Use tf.where in 2.0, which has the same broadcast rule as np.where\n"
     ]
    }
   ],
   "source": [
    "### START CODE HERE ### (1 line)\n",
    "happyModel.compile(optimizer = \"adam\",loss = \"binary_crossentropy\",metrics = [\"accuracy\"])\n",
    "### END CODE HERE ###"
   ]
  },
  {
   "cell_type": "markdown",
   "metadata": {},
   "source": [
    "# Exercise: Implement step 3, i.e. train the model. Choose the number of epochs and the batch size."
   ]
  },
  {
   "cell_type": "code",
   "execution_count": 15,
   "metadata": {
    "scrolled": true
   },
   "outputs": [
    {
     "name": "stdout",
     "output_type": "stream",
     "text": [
      "Epoch 1/60\n",
      "600/600 [==============================] - 5s 9ms/step - loss: 0.0912 - acc: 0.9717\n",
      "Epoch 2/60\n",
      "600/600 [==============================] - 5s 9ms/step - loss: 0.0551 - acc: 0.9850\n",
      "Epoch 3/60\n",
      "600/600 [==============================] - 5s 9ms/step - loss: 0.0583 - acc: 0.9850\n",
      "Epoch 4/60\n",
      "600/600 [==============================] - 5s 9ms/step - loss: 0.0387 - acc: 0.9867\n",
      "Epoch 5/60\n",
      "600/600 [==============================] - 5s 9ms/step - loss: 0.0375 - acc: 0.9900\n",
      "Epoch 6/60\n",
      "600/600 [==============================] - 5s 9ms/step - loss: 0.0328 - acc: 0.9883\n",
      "Epoch 7/60\n",
      "600/600 [==============================] - 6s 10ms/step - loss: 0.0243 - acc: 0.9933\n",
      "Epoch 8/60\n",
      "600/600 [==============================] - 6s 10ms/step - loss: 0.0218 - acc: 0.9950\n",
      "Epoch 9/60\n",
      "600/600 [==============================] - 6s 10ms/step - loss: 0.0291 - acc: 0.9883\n",
      "Epoch 10/60\n",
      "600/600 [==============================] - 6s 10ms/step - loss: 0.0427 - acc: 0.9883\n",
      "Epoch 11/60\n",
      "600/600 [==============================] - 6s 10ms/step - loss: 0.0302 - acc: 0.9917\n",
      "Epoch 12/60\n",
      "600/600 [==============================] - 7s 11ms/step - loss: 0.0282 - acc: 0.9950\n",
      "Epoch 13/60\n",
      "600/600 [==============================] - 6s 10ms/step - loss: 0.0199 - acc: 0.9950\n",
      "Epoch 14/60\n",
      "600/600 [==============================] - 6s 9ms/step - loss: 0.0188 - acc: 0.9950\n",
      "Epoch 15/60\n",
      "600/600 [==============================] - 6s 10ms/step - loss: 0.0186 - acc: 0.9950\n",
      "Epoch 16/60\n",
      "600/600 [==============================] - 6s 10ms/step - loss: 0.0151 - acc: 0.9983\n",
      "Epoch 17/60\n",
      "600/600 [==============================] - 6s 11ms/step - loss: 0.0141 - acc: 0.9983\n",
      "Epoch 18/60\n",
      "600/600 [==============================] - 6s 11ms/step - loss: 0.0095 - acc: 1.0000\n",
      "Epoch 19/60\n",
      "600/600 [==============================] - 7s 11ms/step - loss: 0.0119 - acc: 0.9983\n",
      "Epoch 20/60\n",
      "600/600 [==============================] - 7s 12ms/step - loss: 0.0091 - acc: 0.9967\n",
      "Epoch 21/60\n",
      "600/600 [==============================] - 11s 18ms/step - loss: 0.0096 - acc: 0.9983\n",
      "Epoch 22/60\n",
      "600/600 [==============================] - 11s 18ms/step - loss: 0.0077 - acc: 1.0000\n",
      "Epoch 23/60\n",
      "600/600 [==============================] - 11s 18ms/step - loss: 0.0090 - acc: 0.9983\n",
      "Epoch 24/60\n",
      "600/600 [==============================] - 11s 18ms/step - loss: 0.0091 - acc: 0.9983\n",
      "Epoch 25/60\n",
      "600/600 [==============================] - 12s 20ms/step - loss: 0.0104 - acc: 0.9983\n",
      "Epoch 26/60\n",
      "600/600 [==============================] - 11s 19ms/step - loss: 0.0106 - acc: 0.9967\n",
      "Epoch 27/60\n",
      "600/600 [==============================] - 11s 19ms/step - loss: 0.0077 - acc: 1.0000\n",
      "Epoch 28/60\n",
      "600/600 [==============================] - 11s 19ms/step - loss: 0.0069 - acc: 1.0000\n",
      "Epoch 29/60\n",
      "600/600 [==============================] - 11s 18ms/step - loss: 0.0093 - acc: 0.9983\n",
      "Epoch 30/60\n",
      "600/600 [==============================] - 12s 19ms/step - loss: 0.0090 - acc: 0.9983\n",
      "Epoch 31/60\n",
      "600/600 [==============================] - 10s 17ms/step - loss: 0.0159 - acc: 0.9983\n",
      "Epoch 32/60\n",
      "600/600 [==============================] - 11s 18ms/step - loss: 0.0143 - acc: 0.9967\n",
      "Epoch 33/60\n",
      "600/600 [==============================] - 10s 17ms/step - loss: 0.0157 - acc: 0.9967\n",
      "Epoch 34/60\n",
      "600/600 [==============================] - 10s 17ms/step - loss: 0.0102 - acc: 0.9950\n",
      "Epoch 35/60\n",
      "600/600 [==============================] - 11s 18ms/step - loss: 0.0059 - acc: 1.0000\n",
      "Epoch 36/60\n",
      "600/600 [==============================] - 11s 18ms/step - loss: 0.0076 - acc: 1.0000\n",
      "Epoch 37/60\n",
      "600/600 [==============================] - 11s 18ms/step - loss: 0.0071 - acc: 0.9983\n",
      "Epoch 38/60\n",
      "600/600 [==============================] - 11s 18ms/step - loss: 0.0066 - acc: 0.9983\n",
      "Epoch 39/60\n",
      "600/600 [==============================] - 11s 18ms/step - loss: 0.0054 - acc: 1.0000\n",
      "Epoch 40/60\n",
      "600/600 [==============================] - 10s 17ms/step - loss: 0.0069 - acc: 0.9983\n",
      "Epoch 41/60\n",
      "600/600 [==============================] - 10s 17ms/step - loss: 0.0048 - acc: 1.0000\n",
      "Epoch 42/60\n",
      "600/600 [==============================] - 5s 9ms/step - loss: 0.0067 - acc: 0.9983\n",
      "Epoch 43/60\n",
      "600/600 [==============================] - 5s 9ms/step - loss: 0.0069 - acc: 0.9983\n",
      "Epoch 44/60\n",
      "600/600 [==============================] - 5s 9ms/step - loss: 0.0059 - acc: 1.0000\n",
      "Epoch 45/60\n",
      "600/600 [==============================] - 5s 9ms/step - loss: 0.0068 - acc: 0.9983\n",
      "Epoch 46/60\n",
      "600/600 [==============================] - 5s 9ms/step - loss: 0.0060 - acc: 0.9983\n",
      "Epoch 47/60\n",
      "600/600 [==============================] - 5s 9ms/step - loss: 0.0051 - acc: 1.0000\n",
      "Epoch 48/60\n",
      "600/600 [==============================] - 5s 9ms/step - loss: 0.0052 - acc: 0.9983\n",
      "Epoch 49/60\n",
      "600/600 [==============================] - 5s 9ms/step - loss: 0.0048 - acc: 0.9983\n",
      "Epoch 50/60\n",
      "600/600 [==============================] - 5s 9ms/step - loss: 0.0040 - acc: 1.0000\n",
      "Epoch 51/60\n",
      "600/600 [==============================] - 6s 9ms/step - loss: 0.0061 - acc: 0.9983\n",
      "Epoch 52/60\n",
      "600/600 [==============================] - 6s 10ms/step - loss: 0.0042 - acc: 1.0000\n",
      "Epoch 53/60\n",
      "600/600 [==============================] - 6s 10ms/step - loss: 0.0034 - acc: 1.0000\n",
      "Epoch 54/60\n",
      "600/600 [==============================] - 6s 10ms/step - loss: 0.0039 - acc: 1.0000\n",
      "Epoch 55/60\n",
      "600/600 [==============================] - 6s 9ms/step - loss: 0.0039 - acc: 1.0000\n",
      "Epoch 56/60\n",
      "600/600 [==============================] - 5s 9ms/step - loss: 0.0071 - acc: 0.9983\n",
      "Epoch 57/60\n",
      "600/600 [==============================] - 6s 10ms/step - loss: 0.0087 - acc: 0.9967\n",
      "Epoch 58/60\n",
      "600/600 [==============================] - 6s 10ms/step - loss: 0.0066 - acc: 0.9983\n",
      "Epoch 59/60\n",
      "600/600 [==============================] - 6s 10ms/step - loss: 0.0065 - acc: 0.9983\n",
      "Epoch 60/60\n",
      "600/600 [==============================] - 5s 9ms/step - loss: 0.0046 - acc: 1.0000\n"
     ]
    },
    {
     "data": {
      "text/plain": [
       "<keras.callbacks.History at 0x159952c4828>"
      ]
     },
     "execution_count": 15,
     "metadata": {},
     "output_type": "execute_result"
    }
   ],
   "source": [
    "### START CODE HERE ### (1 line)\n",
    "happyModel.fit(x = X_train,y = Y_train,epochs =60 ,batch_size = 60 )\n",
    "### END CODE HERE ###"
   ]
  },
  {
   "cell_type": "markdown",
   "metadata": {},
   "source": [
    "# Exercise: Implement step 4, i.e. test/evaluate the model."
   ]
  },
  {
   "cell_type": "code",
   "execution_count": 16,
   "metadata": {},
   "outputs": [
    {
     "name": "stdout",
     "output_type": "stream",
     "text": [
      "150/150 [==============================] - 0s 3ms/step\n",
      "\n",
      "Loss = 0.07504313439130783\n",
      "Test Accuracy = 0.9733333587646484\n"
     ]
    }
   ],
   "source": [
    "### START CODE HERE ### (1 line)\n",
    "preds = happyModel.evaluate(x=X_test, y=Y_test, batch_size=150)\n",
    "### END CODE HERE ###\n",
    "print()\n",
    "print (\"Loss = \" + str(preds[0]))\n",
    "print (\"Test Accuracy = \" + str(preds[1]))"
   ]
  },
  {
   "cell_type": "markdown",
   "metadata": {},
   "source": [
    "# 3 - Conclusion\n",
    "# 4 - Test with your own image (Optional)"
   ]
  },
  {
   "cell_type": "code",
   "execution_count": 17,
   "metadata": {},
   "outputs": [
    {
     "name": "stdout",
     "output_type": "stream",
     "text": [
      "[[1.]]\n"
     ]
    },
    {
     "data": {
      "image/png": "[encoded data removed]",
      "text/plain": [
       "<Figure size 432x288 with 1 Axes>"
      ]
     },
     "metadata": {
      "needs_background": "light"
     },
     "output_type": "display_data"
    }
   ],
   "source": [
    "### START CODE HERE ###\n",
    "img_path = 'images/my_image.jpg'\n",
    "### END CODE HERE ###\n",
    "img = image.load_img(img_path, target_size=(64, 64))\n",
    "imshow(img)\n",
    "x = image.img_to_array(img)\n",
    "x = np.expand_dims(x, axis=0)\n",
    "x = preprocess_input(x)\n",
    "print(happyModel.predict(x))"
   ]
  },
  {
   "cell_type": "markdown",
   "metadata": {},
   "source": [
    "# 5 - Other useful functions in Keras (Optional)"
   ]
  },
  {
   "cell_type": "code",
   "execution_count": 18,
   "metadata": {},
   "outputs": [
    {
     "name": "stdout",
     "output_type": "stream",
     "text": [
      "_________________________________________________________________\n",
      "Layer (type)                 Output Shape              Param #   \n",
      "=================================================================\n",
      "input_1 (InputLayer)         (None, 64, 64, 3)         0         \n",
      "_________________________________________________________________\n",
      "zero_padding2d_1 (ZeroPaddin (None, 70, 70, 3)         0         \n",
      "_________________________________________________________________\n",
      "conv0 (Conv2D)               (None, 64, 64, 32)        4736      \n",
      "_________________________________________________________________\n",
      "bn0 (BatchNormalization)     (None, 64, 64, 32)        128       \n",
      "_________________________________________________________________\n",
      "activation_1 (Activation)    (None, 64, 64, 32)        0         \n",
      "_________________________________________________________________\n",
      "max_pool (MaxPooling2D)      (None, 32, 32, 32)        0         \n",
      "_________________________________________________________________\n",
      "flatten_1 (Flatten)          (None, 32768)             0         \n",
      "_________________________________________________________________\n",
      "fc (Dense)                   (None, 1)                 32769     \n",
      "=================================================================\n",
      "Total params: 37,633\n",
      "Trainable params: 37,569\n",
      "Non-trainable params: 64\n",
      "_________________________________________________________________\n"
     ]
    }
   ],
   "source": [
    "happyModel.summary()"
   ]
  },
  {
   "cell_type": "code",
   "execution_count": 19,
   "metadata": {},
   "outputs": [],
   "source": [
    "#plot_model(happyModel, to_file='HappyModel.png')\n",
    "#SVG(model_to_dot(happyModel).create(prog='dot', format='svg'))"
   ]
  }
 ],
 "metadata": {
  "kernelspec": {
   "display_name": "Python 3",
   "language": "python",
   "name": "python3"
  },
  "language_info": {
   "codemirror_mode": {
    "name": "ipython",
    "version": 3
   },
   "file_extension": ".py",
   "mimetype": "text/x-python",
   "name": "python",
   "nbconvert_exporter": "python",
   "pygments_lexer": "ipython3",
   "version": "3.5.4"
  }
 },
 "nbformat": 4,
 "nbformat_minor": 2
}
